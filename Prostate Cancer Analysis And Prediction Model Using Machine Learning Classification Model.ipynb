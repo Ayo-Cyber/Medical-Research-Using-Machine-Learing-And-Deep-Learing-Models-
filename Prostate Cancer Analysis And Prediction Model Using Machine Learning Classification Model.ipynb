{
 "cells": [
  {
   "cell_type": "markdown",
   "metadata": {},
   "source": [
    "## <u>Prostate Cancer Ananlysis and prediction Preview 1</u>"
   ]
  },
  {
   "cell_type": "markdown",
   "metadata": {},
   "source": [
    "### Importing libraries "
   ]
  },
  {
   "cell_type": "code",
   "execution_count": 1,
   "metadata": {},
   "outputs": [],
   "source": [
    "#importing pandas as pd for data manipulation and reading of data from directories \n",
    "import pandas as pd\n",
    "import numpy as np\n",
    "\n",
    "#importing seaborn and matplot helps with data visulization for exploratory data analysis \n",
    "#seaborn library is built upon the matplot framework for more beautiful visualization and seaborn has a larger visulization option\n",
    "import seaborn as sns\n",
    "import matplotlib.pyplot as plt"
   ]
  },
  {
   "cell_type": "code",
   "execution_count": 3,
   "metadata": {},
   "outputs": [
    {
     "data": {
      "text/html": [
       "<div>\n",
       "<style scoped>\n",
       "    .dataframe tbody tr th:only-of-type {\n",
       "        vertical-align: middle;\n",
       "    }\n",
       "\n",
       "    .dataframe tbody tr th {\n",
       "        vertical-align: top;\n",
       "    }\n",
       "\n",
       "    .dataframe thead th {\n",
       "        text-align: right;\n",
       "    }\n",
       "</style>\n",
       "<table border=\"1\" class=\"dataframe\">\n",
       "  <thead>\n",
       "    <tr style=\"text-align: right;\">\n",
       "      <th></th>\n",
       "      <th>id</th>\n",
       "      <th>diagnosis_result</th>\n",
       "      <th>radius</th>\n",
       "      <th>texture</th>\n",
       "      <th>perimeter</th>\n",
       "      <th>area</th>\n",
       "      <th>smoothness</th>\n",
       "      <th>compactness</th>\n",
       "      <th>symmetry</th>\n",
       "      <th>fractal_dimension</th>\n",
       "    </tr>\n",
       "  </thead>\n",
       "  <tbody>\n",
       "    <tr>\n",
       "      <th>74</th>\n",
       "      <td>75</td>\n",
       "      <td>B</td>\n",
       "      <td>18</td>\n",
       "      <td>13</td>\n",
       "      <td>79</td>\n",
       "      <td>471</td>\n",
       "      <td>0.092</td>\n",
       "      <td>0.068</td>\n",
       "      <td>0.172</td>\n",
       "      <td>0.059</td>\n",
       "    </tr>\n",
       "    <tr>\n",
       "      <th>95</th>\n",
       "      <td>96</td>\n",
       "      <td>M</td>\n",
       "      <td>23</td>\n",
       "      <td>16</td>\n",
       "      <td>132</td>\n",
       "      <td>1264</td>\n",
       "      <td>0.091</td>\n",
       "      <td>0.131</td>\n",
       "      <td>0.210</td>\n",
       "      <td>0.056</td>\n",
       "    </tr>\n",
       "    <tr>\n",
       "      <th>58</th>\n",
       "      <td>59</td>\n",
       "      <td>B</td>\n",
       "      <td>22</td>\n",
       "      <td>15</td>\n",
       "      <td>83</td>\n",
       "      <td>527</td>\n",
       "      <td>0.081</td>\n",
       "      <td>0.038</td>\n",
       "      <td>0.182</td>\n",
       "      <td>0.055</td>\n",
       "    </tr>\n",
       "    <tr>\n",
       "      <th>16</th>\n",
       "      <td>17</td>\n",
       "      <td>M</td>\n",
       "      <td>10</td>\n",
       "      <td>16</td>\n",
       "      <td>95</td>\n",
       "      <td>685</td>\n",
       "      <td>0.099</td>\n",
       "      <td>0.072</td>\n",
       "      <td>0.159</td>\n",
       "      <td>0.059</td>\n",
       "    </tr>\n",
       "    <tr>\n",
       "      <th>37</th>\n",
       "      <td>38</td>\n",
       "      <td>B</td>\n",
       "      <td>21</td>\n",
       "      <td>11</td>\n",
       "      <td>83</td>\n",
       "      <td>524</td>\n",
       "      <td>0.090</td>\n",
       "      <td>0.038</td>\n",
       "      <td>0.147</td>\n",
       "      <td>0.059</td>\n",
       "    </tr>\n",
       "  </tbody>\n",
       "</table>\n",
       "</div>"
      ],
      "text/plain": [
       "    id diagnosis_result  radius  texture  perimeter  area  smoothness  \\\n",
       "74  75                B      18       13         79   471       0.092   \n",
       "95  96                M      23       16        132  1264       0.091   \n",
       "58  59                B      22       15         83   527       0.081   \n",
       "16  17                M      10       16         95   685       0.099   \n",
       "37  38                B      21       11         83   524       0.090   \n",
       "\n",
       "    compactness  symmetry  fractal_dimension  \n",
       "74        0.068     0.172              0.059  \n",
       "95        0.131     0.210              0.056  \n",
       "58        0.038     0.182              0.055  \n",
       "16        0.072     0.159              0.059  \n",
       "37        0.038     0.147              0.059  "
      ]
     },
     "execution_count": 3,
     "metadata": {},
     "output_type": "execute_result"
    }
   ],
   "source": [
    "#reading of data from the directory at which the data we want to import is being saved \n",
    "#in this project we would be naming the dataframe : (df) shorts for dataframe and commonly used in the data world\n",
    "\n",
    "df = pd.read_csv(\"Prostate_Cancer.csv\") #The read_csv method is used to read data ,it's a pandas function\n",
    "df.sample(5) #This helps us to display a sample of 5 random set of data from the much larger dataset to see what we are working with"
   ]
  },
  {
   "cell_type": "code",
   "execution_count": 4,
   "metadata": {},
   "outputs": [
    {
     "data": {
      "text/plain": [
       "(100, 10)"
      ]
     },
     "execution_count": 4,
     "metadata": {},
     "output_type": "execute_result"
    }
   ],
   "source": [
    "#To check the shape of our dataframe for more explict information \n",
    "df.shape"
   ]
  },
  {
   "cell_type": "markdown",
   "metadata": {},
   "source": [
    "#### From the above cell we can see that we are trying to get the shape interms of rows and columns to help us see the dataframe more and also give us an approach to solve the problem."
   ]
  },
  {
   "cell_type": "code",
   "execution_count": 5,
   "metadata": {},
   "outputs": [
    {
     "data": {
      "text/plain": [
       "Index(['id', 'diagnosis_result', 'radius', 'texture', 'perimeter', 'area',\n",
       "       'smoothness', 'compactness', 'symmetry', 'fractal_dimension'],\n",
       "      dtype='object')"
      ]
     },
     "execution_count": 5,
     "metadata": {},
     "output_type": "execute_result"
    }
   ],
   "source": [
    "df.columns #df.columns helps to print out the columns in our df dataframe ."
   ]
  },
  {
   "cell_type": "markdown",
   "metadata": {},
   "source": [
    "#### For further analysis and model building in the future we would see that the patient id column wont be needed because of it doesnt really affect the outcome of our result , so we can drop it using the pandas function drop , when using the drop function we would be specifying the axis and also the inplace parameter whether True or False to drop the column from the dataframe \n",
    "\n",
    "#### The Inplace function helps to drop the column either for good when using the dataframe or just for the main time while using the drop function . If the Inplace parameter is being set to true the column will be dropped for good in the dataframe , but if false it wont drop it for good but it would drop it for that time ."
   ]
  },
  {
   "cell_type": "code",
   "execution_count": 6,
   "metadata": {},
   "outputs": [],
   "source": [
    "df.drop([\"id\"] , axis = 1  , inplace  = True) \n",
    "#the drop function is being used here to drop the id column and axis is set to 1 to drop the column if axis was set to 0 it would be dropping rows\n",
    "#and the inplace parameter set to true to drop the column for good in the dataframe"
   ]
  },
  {
   "cell_type": "code",
   "execution_count": 7,
   "metadata": {},
   "outputs": [
    {
     "data": {
      "text/plain": [
       "Index(['diagnosis_result', 'radius', 'texture', 'perimeter', 'area',\n",
       "       'smoothness', 'compactness', 'symmetry', 'fractal_dimension'],\n",
       "      dtype='object')"
      ]
     },
     "execution_count": 7,
     "metadata": {},
     "output_type": "execute_result"
    }
   ],
   "source": [
    "df.columns"
   ]
  },
  {
   "cell_type": "markdown",
   "metadata": {},
   "source": [
    "#### We can see now that the patient id column tagged as id has being removed and  this time for good because when ever we try to use the df dataframe again we won't be finding the id column there . "
   ]
  },
  {
   "cell_type": "code",
   "execution_count": 8,
   "metadata": {
    "scrolled": true
   },
   "outputs": [
    {
     "data": {
      "text/html": [
       "<div>\n",
       "<style scoped>\n",
       "    .dataframe tbody tr th:only-of-type {\n",
       "        vertical-align: middle;\n",
       "    }\n",
       "\n",
       "    .dataframe tbody tr th {\n",
       "        vertical-align: top;\n",
       "    }\n",
       "\n",
       "    .dataframe thead th {\n",
       "        text-align: right;\n",
       "    }\n",
       "</style>\n",
       "<table border=\"1\" class=\"dataframe\">\n",
       "  <thead>\n",
       "    <tr style=\"text-align: right;\">\n",
       "      <th></th>\n",
       "      <th>diagnosis_result</th>\n",
       "      <th>radius</th>\n",
       "      <th>texture</th>\n",
       "      <th>perimeter</th>\n",
       "      <th>area</th>\n",
       "      <th>smoothness</th>\n",
       "      <th>compactness</th>\n",
       "      <th>symmetry</th>\n",
       "      <th>fractal_dimension</th>\n",
       "    </tr>\n",
       "  </thead>\n",
       "  <tbody>\n",
       "    <tr>\n",
       "      <th>56</th>\n",
       "      <td>M</td>\n",
       "      <td>10</td>\n",
       "      <td>19</td>\n",
       "      <td>126</td>\n",
       "      <td>1152</td>\n",
       "      <td>0.105</td>\n",
       "      <td>0.127</td>\n",
       "      <td>0.192</td>\n",
       "      <td>0.060</td>\n",
       "    </tr>\n",
       "    <tr>\n",
       "      <th>86</th>\n",
       "      <td>M</td>\n",
       "      <td>19</td>\n",
       "      <td>26</td>\n",
       "      <td>94</td>\n",
       "      <td>648</td>\n",
       "      <td>0.094</td>\n",
       "      <td>0.099</td>\n",
       "      <td>0.208</td>\n",
       "      <td>0.056</td>\n",
       "    </tr>\n",
       "    <tr>\n",
       "      <th>20</th>\n",
       "      <td>B</td>\n",
       "      <td>16</td>\n",
       "      <td>14</td>\n",
       "      <td>86</td>\n",
       "      <td>520</td>\n",
       "      <td>0.108</td>\n",
       "      <td>0.127</td>\n",
       "      <td>0.197</td>\n",
       "      <td>0.068</td>\n",
       "    </tr>\n",
       "    <tr>\n",
       "      <th>0</th>\n",
       "      <td>M</td>\n",
       "      <td>23</td>\n",
       "      <td>12</td>\n",
       "      <td>151</td>\n",
       "      <td>954</td>\n",
       "      <td>0.143</td>\n",
       "      <td>0.278</td>\n",
       "      <td>0.242</td>\n",
       "      <td>0.079</td>\n",
       "    </tr>\n",
       "    <tr>\n",
       "      <th>38</th>\n",
       "      <td>M</td>\n",
       "      <td>11</td>\n",
       "      <td>15</td>\n",
       "      <td>96</td>\n",
       "      <td>699</td>\n",
       "      <td>0.094</td>\n",
       "      <td>0.051</td>\n",
       "      <td>0.157</td>\n",
       "      <td>0.055</td>\n",
       "    </tr>\n",
       "  </tbody>\n",
       "</table>\n",
       "</div>"
      ],
      "text/plain": [
       "   diagnosis_result  radius  texture  perimeter  area  smoothness  \\\n",
       "56                M      10       19        126  1152       0.105   \n",
       "86                M      19       26         94   648       0.094   \n",
       "20                B      16       14         86   520       0.108   \n",
       "0                 M      23       12        151   954       0.143   \n",
       "38                M      11       15         96   699       0.094   \n",
       "\n",
       "    compactness  symmetry  fractal_dimension  \n",
       "56        0.127     0.192              0.060  \n",
       "86        0.099     0.208              0.056  \n",
       "20        0.127     0.197              0.068  \n",
       "0         0.278     0.242              0.079  \n",
       "38        0.051     0.157              0.055  "
      ]
     },
     "execution_count": 8,
     "metadata": {},
     "output_type": "execute_result"
    }
   ],
   "source": [
    "df.sample(5)"
   ]
  },
  {
   "cell_type": "code",
   "execution_count": 15,
   "metadata": {},
   "outputs": [
    {
     "data": {
      "text/html": [
       "<div>\n",
       "<style scoped>\n",
       "    .dataframe tbody tr th:only-of-type {\n",
       "        vertical-align: middle;\n",
       "    }\n",
       "\n",
       "    .dataframe tbody tr th {\n",
       "        vertical-align: top;\n",
       "    }\n",
       "\n",
       "    .dataframe thead th {\n",
       "        text-align: right;\n",
       "    }\n",
       "</style>\n",
       "<table border=\"1\" class=\"dataframe\">\n",
       "  <thead>\n",
       "    <tr style=\"text-align: right;\">\n",
       "      <th></th>\n",
       "      <th>radius</th>\n",
       "      <th>texture</th>\n",
       "      <th>perimeter</th>\n",
       "      <th>area</th>\n",
       "      <th>smoothness</th>\n",
       "      <th>compactness</th>\n",
       "      <th>symmetry</th>\n",
       "      <th>fractal_dimension</th>\n",
       "    </tr>\n",
       "  </thead>\n",
       "  <tbody>\n",
       "    <tr>\n",
       "      <th>count</th>\n",
       "      <td>100.000000</td>\n",
       "      <td>100.000000</td>\n",
       "      <td>100.000000</td>\n",
       "      <td>100.000000</td>\n",
       "      <td>100.000000</td>\n",
       "      <td>100.000000</td>\n",
       "      <td>100.000000</td>\n",
       "      <td>100.000000</td>\n",
       "    </tr>\n",
       "    <tr>\n",
       "      <th>mean</th>\n",
       "      <td>16.850000</td>\n",
       "      <td>18.230000</td>\n",
       "      <td>96.780000</td>\n",
       "      <td>702.880000</td>\n",
       "      <td>0.102730</td>\n",
       "      <td>0.126700</td>\n",
       "      <td>0.193170</td>\n",
       "      <td>0.064690</td>\n",
       "    </tr>\n",
       "    <tr>\n",
       "      <th>std</th>\n",
       "      <td>4.879094</td>\n",
       "      <td>5.192954</td>\n",
       "      <td>23.676089</td>\n",
       "      <td>319.710895</td>\n",
       "      <td>0.014642</td>\n",
       "      <td>0.061144</td>\n",
       "      <td>0.030785</td>\n",
       "      <td>0.008151</td>\n",
       "    </tr>\n",
       "    <tr>\n",
       "      <th>min</th>\n",
       "      <td>9.000000</td>\n",
       "      <td>11.000000</td>\n",
       "      <td>52.000000</td>\n",
       "      <td>202.000000</td>\n",
       "      <td>0.070000</td>\n",
       "      <td>0.038000</td>\n",
       "      <td>0.135000</td>\n",
       "      <td>0.053000</td>\n",
       "    </tr>\n",
       "    <tr>\n",
       "      <th>25%</th>\n",
       "      <td>12.000000</td>\n",
       "      <td>14.000000</td>\n",
       "      <td>82.500000</td>\n",
       "      <td>476.750000</td>\n",
       "      <td>0.093500</td>\n",
       "      <td>0.080500</td>\n",
       "      <td>0.172000</td>\n",
       "      <td>0.059000</td>\n",
       "    </tr>\n",
       "    <tr>\n",
       "      <th>50%</th>\n",
       "      <td>17.000000</td>\n",
       "      <td>17.500000</td>\n",
       "      <td>94.000000</td>\n",
       "      <td>644.000000</td>\n",
       "      <td>0.102000</td>\n",
       "      <td>0.118500</td>\n",
       "      <td>0.190000</td>\n",
       "      <td>0.063000</td>\n",
       "    </tr>\n",
       "    <tr>\n",
       "      <th>75%</th>\n",
       "      <td>21.000000</td>\n",
       "      <td>22.250000</td>\n",
       "      <td>114.250000</td>\n",
       "      <td>917.000000</td>\n",
       "      <td>0.112000</td>\n",
       "      <td>0.157000</td>\n",
       "      <td>0.209000</td>\n",
       "      <td>0.069000</td>\n",
       "    </tr>\n",
       "    <tr>\n",
       "      <th>max</th>\n",
       "      <td>25.000000</td>\n",
       "      <td>27.000000</td>\n",
       "      <td>172.000000</td>\n",
       "      <td>1878.000000</td>\n",
       "      <td>0.143000</td>\n",
       "      <td>0.345000</td>\n",
       "      <td>0.304000</td>\n",
       "      <td>0.097000</td>\n",
       "    </tr>\n",
       "  </tbody>\n",
       "</table>\n",
       "</div>"
      ],
      "text/plain": [
       "           radius     texture   perimeter         area  smoothness  \\\n",
       "count  100.000000  100.000000  100.000000   100.000000  100.000000   \n",
       "mean    16.850000   18.230000   96.780000   702.880000    0.102730   \n",
       "std      4.879094    5.192954   23.676089   319.710895    0.014642   \n",
       "min      9.000000   11.000000   52.000000   202.000000    0.070000   \n",
       "25%     12.000000   14.000000   82.500000   476.750000    0.093500   \n",
       "50%     17.000000   17.500000   94.000000   644.000000    0.102000   \n",
       "75%     21.000000   22.250000  114.250000   917.000000    0.112000   \n",
       "max     25.000000   27.000000  172.000000  1878.000000    0.143000   \n",
       "\n",
       "       compactness    symmetry  fractal_dimension  \n",
       "count   100.000000  100.000000         100.000000  \n",
       "mean      0.126700    0.193170           0.064690  \n",
       "std       0.061144    0.030785           0.008151  \n",
       "min       0.038000    0.135000           0.053000  \n",
       "25%       0.080500    0.172000           0.059000  \n",
       "50%       0.118500    0.190000           0.063000  \n",
       "75%       0.157000    0.209000           0.069000  \n",
       "max       0.345000    0.304000           0.097000  "
      ]
     },
     "execution_count": 15,
     "metadata": {},
     "output_type": "execute_result"
    }
   ],
   "source": [
    "df.describe()"
   ]
  },
  {
   "cell_type": "code",
   "execution_count": 11,
   "metadata": {},
   "outputs": [
    {
     "name": "stdout",
     "output_type": "stream",
     "text": [
      "The Unique Variables in the Diagnosis Result are : ['M' 'B']\n"
     ]
    },
    {
     "data": {
      "text/plain": [
       "M    62\n",
       "B    38\n",
       "Name: diagnosis_result, dtype: int64"
      ]
     },
     "execution_count": 11,
     "metadata": {},
     "output_type": "execute_result"
    }
   ],
   "source": [
    "print(f\"The Unique Variables in the Diagnosis Result are : {df.diagnosis_result.unique()}\")\n",
    "#The unique function in the df dataframe is used to get the unique variables in the dataframe for a specified column , which we gave to the diagnosis_result column\n",
    "df.diagnosis_result.value_counts()\n",
    "#The value_counts function helps to count the number of times a particular variable appears or occurs in a dataframe specific for a particular as specified by the researcher"
   ]
  },
  {
   "cell_type": "code",
   "execution_count": 12,
   "metadata": {},
   "outputs": [
    {
     "data": {
      "text/plain": [
       "diagnosis_result      object\n",
       "radius                 int64\n",
       "texture                int64\n",
       "perimeter              int64\n",
       "area                   int64\n",
       "smoothness           float64\n",
       "compactness          float64\n",
       "symmetry             float64\n",
       "fractal_dimension    float64\n",
       "dtype: object"
      ]
     },
     "execution_count": 12,
     "metadata": {},
     "output_type": "execute_result"
    }
   ],
   "source": [
    "df.dtypes #the dtypes function helps us to get the datatypes in which each columns variables are being stored as\n",
    "#datatypes are format in which variables are being stored as "
   ]
  },
  {
   "cell_type": "code",
   "execution_count": 13,
   "metadata": {},
   "outputs": [
    {
     "data": {
      "text/plain": [
       "<AxesSubplot:xlabel='diagnosis_result', ylabel='count'>"
      ]
     },
     "execution_count": 13,
     "metadata": {},
     "output_type": "execute_result"
    },
    {
     "data": {
      "image/png": "[encoded data removed]",
      "text/plain": [
       "<Figure size 432x288 with 1 Axes>"
      ]
     },
     "metadata": {
      "needs_background": "light"
     },
     "output_type": "display_data"
    }
   ],
   "source": [
    "sns.countplot(data = df , x = \"diagnosis_result\" )\n",
    "#seaborn countplot is used to plot a bar graph showing the literal count of each varaible in a specified column ."
   ]
  },
  {
   "cell_type": "code",
   "execution_count": 14,
   "metadata": {},
   "outputs": [
    {
     "data": {
      "text/plain": [
       "<AxesSubplot:xlabel='radius'>"
      ]
     },
     "execution_count": 14,
     "metadata": {},
     "output_type": "execute_result"
    },
    {
     "data": {
      "image/png": "[encoded data removed]",
      "text/plain": [
       "<Figure size 432x288 with 1 Axes>"
      ]
     },
     "metadata": {
      "needs_background": "light"
     },
     "output_type": "display_data"
    }
   ],
   "source": [
    "sns.boxplot(data = df , x = \"radius\")\n",
    "#the seaborn boxplot is  used to check for outlier variable most of the time .\n",
    "#the below chart looks to be evenly distirbuted and doesnt show signs of having any variable that seem out of the ordinary "
   ]
  },
  {
   "cell_type": "code",
   "execution_count": null,
   "metadata": {},
   "outputs": [],
   "source": []
  },
  {
   "cell_type": "code",
   "execution_count": 16,
   "metadata": {},
   "outputs": [],
   "source": [
    "df_target = df.diagnosis_result \n",
    "#copying the diagnosis_result column into a new dataframe so we could use it for preprocessing seperate from the main dataframe"
   ]
  },
  {
   "cell_type": "markdown",
   "metadata": {},
   "source": [
    "### The Copying of diagnosis_result column explained \n",
    "\n",
    "#### The main motive for copying the column in a new dataframe is to use it for encoding and preprocessing and still be able to use it for our modelling , but the fact is that we don't want to tamper with the main dataframe because it could be used for more data analysis to get more insights on what set of columns really affect the out come of the diagnosis result ."
   ]
  },
  {
   "cell_type": "code",
   "execution_count": 17,
   "metadata": {},
   "outputs": [
    {
     "data": {
      "text/plain": [
       "0    M\n",
       "1    B\n",
       "2    M\n",
       "3    M\n",
       "4    M\n",
       "Name: diagnosis_result, dtype: object"
      ]
     },
     "execution_count": 17,
     "metadata": {},
     "output_type": "execute_result"
    }
   ],
   "source": [
    "df_target.head()"
   ]
  },
  {
   "cell_type": "markdown",
   "metadata": {},
   "source": [
    "### Preprocessing Of The df_target dataframe\n",
    "\n",
    "#### In Machine Learning , when we have data types in form of object they can't be used in the modelling phase except being encoded by scikit learn models turning the object which in lame man sense meaning letters or charcters that aren't numbers . Computers only understands numbers and not letters so we have to convert or in more scientific terms encode the characters in form of numbers.\n",
    "\n",
    "#### We have various ways of encoding object columns in pandas and mentioning a few we have the OneHotEncoder ,LabelEncoder and the pandas get_dummies function , i personally prefer the LabelEncoder . \n",
    "\n"
   ]
  },
  {
   "cell_type": "code",
   "execution_count": 18,
   "metadata": {},
   "outputs": [],
   "source": [
    "#using the scikit learn library to import LabelEncoder for encoding of the object characters in the df_target dataframe \n",
    "from sklearn.preprocessing import LabelEncoder\n",
    "\n",
    "encoder = LabelEncoder() #creating an instance of the labelencoder class for easy usage \n",
    "\n",
    "df_target = encoder.fit_transform(df_target) \n",
    "#this helps to fit the dataframe and also transform it into a more easier way for the computer to understand "
   ]
  },
  {
   "cell_type": "markdown",
   "metadata": {},
   "source": [
    "### Model Building "
   ]
  },
  {
   "cell_type": "code",
   "execution_count": 23,
   "metadata": {},
   "outputs": [],
   "source": [
    "from sklearn.model_selection import train_test_split\n",
    "#the scikit model_selection function helps to split the dataframe into train sets and test sets \n",
    "\n",
    "X_train , X_test , y_train , y_test = train_test_split(df.drop([\"diagnosis_result\"] , axis = 1) , df_target , test_size = 0.35 , random_state=10)\n",
    "#The code snippet above helps to declare the X_train and X_test and smae goes to the y_train an d y_test . "
   ]
  },
  {
   "cell_type": "markdown",
   "metadata": {},
   "source": [
    "#### Interms of Model_selection the train_test_split method helps to split the dataframe into sections of training and testing , this spliting helps us to fit the model with the train set in other words train the model with the train set and score or evaluate the model based on the test . \n",
    "\n",
    "#### The next code snippet where the X-train , X_test , y_train and y_test variables are being set , this line of code helps to store particular set of data into the variables declared . \n",
    "#### First of the df.drop[\"diagnosis_result] is stored in X_train , what we did there is drop the diagnosis_result column and leave the rest setting them into the X_train and X_test variables \n",
    "#### Secondly the df_target is our target variable set , they are stored in the y_train and y_test\n",
    "#### After all variables have being mapped , we used the parameter test_size to give the percentage that should be used as the test size from the dataset given . "
   ]
  },
  {
   "cell_type": "code",
   "execution_count": 24,
   "metadata": {},
   "outputs": [
    {
     "data": {
      "text/plain": [
       "(65, 8)"
      ]
     },
     "execution_count": 24,
     "metadata": {},
     "output_type": "execute_result"
    }
   ],
   "source": [
    "X_train.shape"
   ]
  },
  {
   "cell_type": "code",
   "execution_count": 25,
   "metadata": {},
   "outputs": [
    {
     "data": {
      "text/plain": [
       "Index(['radius', 'texture', 'perimeter', 'area', 'smoothness', 'compactness',\n",
       "       'symmetry', 'fractal_dimension'],\n",
       "      dtype='object')"
      ]
     },
     "execution_count": 25,
     "metadata": {},
     "output_type": "execute_result"
    }
   ],
   "source": [
    "X_train.columns"
   ]
  },
  {
   "cell_type": "code",
   "execution_count": 29,
   "metadata": {},
   "outputs": [
    {
     "data": {
      "text/plain": [
       "SVC()"
      ]
     },
     "execution_count": 29,
     "metadata": {},
     "output_type": "execute_result"
    }
   ],
   "source": [
    "from sklearn.svm import SVC\n",
    "#importing the support vector machine for classification model building \n",
    "model_svc = SVC()\n",
    "model_svc.fit(X_train , y_train) #training the model based on the x_train and y_train "
   ]
  },
  {
   "cell_type": "code",
   "execution_count": 31,
   "metadata": {},
   "outputs": [
    {
     "data": {
      "text/plain": [
       "0.7428571428571429"
      ]
     },
     "execution_count": 31,
     "metadata": {},
     "output_type": "execute_result"
    }
   ],
   "source": [
    "model_svc.score(X_test , y_test) #checking the score and accuracy of our support vector machine "
   ]
  },
  {
   "cell_type": "markdown",
   "metadata": {},
   "source": [
    "### Logistic Regression Model Building "
   ]
  },
  {
   "cell_type": "code",
   "execution_count": 35,
   "metadata": {},
   "outputs": [
    {
     "data": {
      "text/plain": [
       "LogisticRegression(max_iter=1000)"
      ]
     },
     "execution_count": 35,
     "metadata": {},
     "output_type": "execute_result"
    }
   ],
   "source": [
    "from sklearn.linear_model import LogisticRegression \n",
    "#importing the logistic regresssion model from the scikit learn library for classifiction model building \n",
    "\n",
    "\n",
    "model_lr = LogisticRegression(max_iter = 1000) \n",
    "#creating an instance of the logisitic regression model to use in the fitting of the model \n",
    "model_lr.fit(X_train , y_train) \n",
    "#model_lr.fit(x_train , y_train) is used to fit and train the model to get used to the dataset for evaluation purposes and testing for predictions"
   ]
  },
  {
   "cell_type": "code",
   "execution_count": 36,
   "metadata": {},
   "outputs": [
    {
     "data": {
      "text/plain": [
       "0.8571428571428571"
      ]
     },
     "execution_count": 36,
     "metadata": {},
     "output_type": "execute_result"
    }
   ],
   "source": [
    "model_lr.score(X_test , y_test)\n",
    "#model_lr.score(x_test , y_test) , this helps to evaluate and check how our model is performing when used on the test set "
   ]
  },
  {
   "cell_type": "markdown",
   "metadata": {},
   "source": [
    "### <u>In-conclusion</u> \n",
    "#### The Model Building phase is mostly not the end a machine learning or data science project there's more to data science than just building models to predict the outcome or how accuracte our model works . \n",
    "\n",
    "### <ul><li>The Support Vector Machine Model worked well with an accuracy of over 73 percentage and will do better once used with and XGBoost classifier </li><li>The Logisitic Regression Model worked well with a accuracy over 80 percentage and can also do better . </li></ul>\n",
    "\n",
    "### <u>Things That Could be Improved in my next program </u>\n",
    "### <ol><li>First i will make sure i use the MinMaxScaler from the sklearn.preprocessin libarary to scale my data down for more scalability and to make my model more efficient </li> <li>Secondly Next Project i will try to use the XGBoost Classifier to boost the accuracy of my model for more accuracy .</li><li>obviously there were not much graphs in there for exploratory data analysis to make the job easier for those who like to get insight from visuals , i wanted to use the power bi tool but i just found it a little stressing , i would use the seaborn on my next analysis on this same project to conquer my seaborn allergy .</li></ol>"
   ]
  },
  {
   "cell_type": "markdown",
   "metadata": {},
   "source": []
  }
 ],
 "metadata": {
  "kernelspec": {
   "display_name": "Python 3",
   "language": "python",
   "name": "python3"
  },
  "language_info": {
   "codemirror_mode": {
    "name": "ipython",
    "version": 3
   },
   "file_extension": ".py",
   "mimetype": "text/x-python",
   "name": "python",
   "nbconvert_exporter": "python",
   "pygments_lexer": "ipython3",
   "version": "3.8.5"
  }
 },
 "nbformat": 4,
 "nbformat_minor": 4
}
