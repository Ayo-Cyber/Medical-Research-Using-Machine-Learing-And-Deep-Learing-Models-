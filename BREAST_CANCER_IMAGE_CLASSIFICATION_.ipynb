{
  "cells": [
    {
      "cell_type": "markdown",
      "metadata": {
        "id": "view-in-github",
        "colab_type": "text"
      },
      "source": [
        "<a href=\"https://colab.research.google.com/github/Ayo-Cyber/Medical-Research-Using-Machine-Learing-And-Deep-Learing-Models-/blob/main/BREAST_CANCER_IMAGE_CLASSIFICATION_.ipynb\" target=\"_parent\"><img src=\"https://colab.research.google.com/assets/colab-badge.svg\" alt=\"Open In Colab\"/></a>"
      ]
    },
    {
      "cell_type": "markdown",
      "source": [
        "## Importing Libraries"
      ],
      "metadata": {
        "id": "Qm0dPfOCCFqE"
      }
    },
    {
      "cell_type": "code",
      "execution_count": 32,
      "metadata": {
        "id": "reQDMfJr_Xh2"
      },
      "outputs": [],
      "source": [
        "import pandas as pd #importing pandas to read data and also use for data manipulation\n",
        "import numpy as np #for connecting dictionaries to array and also for linear algebra use \n",
        "\n",
        "import os #for the use reading files from directories \n",
        "import glob\n",
        "\n",
        "#for data visualization\n",
        "import matplotlib.pyplot as plt #matplotlb.pyplot is used for data visualization\n",
        "import seaborn as sns #seaborn is a library built upon matplotlib used for data visualization\n",
        "\n",
        "#deep learning tools....\n",
        "import tensorflow as tf #tensorflow is a deep learning tool used for building neural networks\n",
        "from tensorflow import keras #keras acts as the interface for tensorflow \n",
        "from tensorflow.keras.preprocessing import image, image_dataset_from_directory #this tensorflow.keras.preprocessing is used for reading images in tensorflow\n",
        "\n",
        "#scikit learn libraries \n",
        "from skimage import data , io , filters #skimage is used for reading data in image format \n",
        "\n",
        "from sklearn.preprocessing import LabelEncoder #labelencoder is used for encoding text characters into understandable computer formats (i.e : numbers)\n",
        "from sklearn.model_selection import train_test_split \n",
        "#model_selection is used when we decide to split the dataset into two splits one for training and the otehr for testing "
      ]
    },
    {
      "cell_type": "markdown",
      "source": [
        "## Reading Data\n",
        "\n",
        "#### In this section we read our image data from the google drive we stored them in for easy usage . \n",
        "\n",
        "\n",
        "*   First we store the directory of the folder of our images in the main_directory variable \n",
        "*   Then we use the os.listdir to further move into the folder to check other folders , which are the three folders (<i>benign</i> , <i>normal</i> , <i>malignant</i>)\n",
        "*   After that we created two list variables to store in the image_files and there respective labels .\n",
        "*   Furthermore a for loop was used to loop through the image_directory to get the image files for sectioning\n",
        "*   We then However used the glob function from pyton the define a technique to match some specific pattern interms of the image directory  \n",
        "*   After using the glob function we then iterate through the image directory variable to get the image labels and files \n",
        "*   Afterwards the length of both the image_files and image_labels is being printed out ."
      ],
      "metadata": {
        "id": "jAmvVOk6Fbh_"
      }
    },
    {
      "cell_type": "code",
      "execution_count": 31,
      "metadata": {
        "colab": {
          "base_uri": "https://localhost:8080/"
        },
        "id": "GWk6_IY9FWCk",
        "outputId": "5c7cfa53-e7b4-4e19-ff4e-4b636a48fae6"
      },
      "outputs": [
        {
          "output_type": "execute_result",
          "data": {
            "text/plain": [
              "(2030, 2030)"
            ]
          },
          "metadata": {},
          "execution_count": 31
        }
      ],
      "source": [
        "main_directory = '/content/drive/MyDrive/Breast_Cancer_Images_Folder' \n",
        "\n",
        "image_directory = os.listdir(main_directory)\n",
        "\n",
        "image_files = []\n",
        "image_labels = []\n",
        "\n",
        "for folders in image_directory:\n",
        "\n",
        "  file_list = glob.glob(main_directory + '/'+ folders + '/*')\n",
        "  image_labels.extend([folders for l in file_list])\n",
        "  image_files.extend(file_list)\n",
        "\n",
        "len(image_files), len(image_labels)"
      ]
    },
    {
      "cell_type": "code",
      "execution_count": 3,
      "metadata": {
        "colab": {
          "base_uri": "https://localhost:8080/"
        },
        "id": "nf_tJAu0Gaq3",
        "outputId": "e85c05e5-d466-4597-e090-80a77ed61e00"
      },
      "outputs": [
        {
          "output_type": "execute_result",
          "data": {
            "text/plain": [
              "(792, 792)"
            ]
          },
          "metadata": {},
          "execution_count": 3
        }
      ],
      "source": [
        "selected_files = []\n",
        "selected_labels = []\n",
        "\n",
        "for file, label in zip(image_files, image_labels):\n",
        "    if 'mask' not in file:\n",
        "        selected_files.append(file)\n",
        "        selected_labels.append(label)\n",
        "\n",
        "    \n",
        "len(selected_files), len(selected_labels)"
      ]
    },
    {
      "cell_type": "code",
      "execution_count": 4,
      "metadata": {
        "colab": {
          "base_uri": "https://localhost:8080/"
        },
        "id": "NsF2tDywOcN9",
        "outputId": "334622d5-49f7-426c-d607-0385b0c02dba"
      },
      "outputs": [
        {
          "output_type": "execute_result",
          "data": {
            "text/plain": [
              "(['/content/drive/MyDrive/Breast_Cancer_Images_Folder/normal/normal (116).png',\n",
              "  '/content/drive/MyDrive/Breast_Cancer_Images_Folder/normal/normal (10).png',\n",
              "  '/content/drive/MyDrive/Breast_Cancer_Images_Folder/normal/normal (105).png',\n",
              "  '/content/drive/MyDrive/Breast_Cancer_Images_Folder/normal/normal (107).png',\n",
              "  '/content/drive/MyDrive/Breast_Cancer_Images_Folder/normal/normal (104).png'],\n",
              " ['normal', 'normal', 'normal', 'normal', 'normal'])"
            ]
          },
          "metadata": {},
          "execution_count": 4
        }
      ],
      "source": [
        "selected_files[:5],selected_labels[:5]"
      ]
    },
    {
      "cell_type": "code",
      "execution_count": 6,
      "metadata": {
        "colab": {
          "base_uri": "https://localhost:8080/"
        },
        "id": "yCmoiWx1Okav",
        "outputId": "18c5f0aa-bd14-47f9-d13a-5177b2582976"
      },
      "outputs": [
        {
          "output_type": "stream",
          "name": "stdout",
          "text": [
            "Preparing the image...\n",
            "Finished.\n"
          ]
        }
      ],
      "source": [
        "Img_shp = (224 , 224)\n",
        "def prepare_image(file):\n",
        "    img = image.load_img(file, target_size=Img_shp)\n",
        "    img_array = image.img_to_array(img)\n",
        "    return tf.keras.applications.efficientnet.preprocess_input (img_array)\n",
        "\n",
        "images = {\n",
        "    'image': [], \n",
        "    'target': []\n",
        "}\n",
        "\n",
        "print('Preparing the image...')\n",
        "\n",
        "for i, (file, label) in enumerate(zip(selected_files, selected_labels)):\n",
        "    images['image'].append(prepare_image(file))\n",
        "    images['target'].append(label)\n",
        "\n",
        "print('Finished.')"
      ]
    },
    {
      "cell_type": "code",
      "execution_count": 7,
      "metadata": {
        "id": "6s05rDq1Rn11"
      },
      "outputs": [],
      "source": [
        "images['image'] = np.array(images['image'])\n",
        "images['target'] = np.array(images['target'])"
      ]
    },
    {
      "cell_type": "code",
      "source": [
        "count = [0]*3\n",
        "for i in np.arange(len(images['target'])):\n",
        "  if images['target'][i] == 'normal':\n",
        "    count[0] = count[0] + 1\n",
        "  elif images['target'][i] == 'benign':\n",
        "    count[1] = count[1] + 1\n",
        "  else:\n",
        "    count[2] = count[2] + 1\n",
        "\n",
        "\n",
        "cancer_data = {\n",
        "    'names' : ['normal' , 'bengin' , 'maliginant'] , \n",
        "    'count' : [count[0] , count[1] , count[2]]\n",
        "}\n",
        "\n",
        "cancer_df = pd.DataFrame.from_dict(cancer_data)"
      ],
      "metadata": {
        "id": "CEYDJNZO6y6q"
      },
      "execution_count": 22,
      "outputs": []
    },
    {
      "cell_type": "code",
      "source": [
        "cancer_df"
      ],
      "metadata": {
        "colab": {
          "base_uri": "https://localhost:8080/",
          "height": 143
        },
        "id": "5t43b8-Z9oN1",
        "outputId": "6ae80f63-ce8c-42af-ccd3-8a0149e6750e"
      },
      "execution_count": 23,
      "outputs": [
        {
          "output_type": "execute_result",
          "data": {
            "text/plain": [
              "        names  count\n",
              "0      normal    133\n",
              "1      bengin    447\n",
              "2  maliginant    212"
            ],
            "text/html": [
              "\n",
              "  <div id=\"df-f8d7f94b-bfe0-4f6a-a036-bd29fd4dfdce\">\n",
              "    <div class=\"colab-df-container\">\n",
              "      <div>\n",
              "<style scoped>\n",
              "    .dataframe tbody tr th:only-of-type {\n",
              "        vertical-align: middle;\n",
              "    }\n",
              "\n",
              "    .dataframe tbody tr th {\n",
              "        vertical-align: top;\n",
              "    }\n",
              "\n",
              "    .dataframe thead th {\n",
              "        text-align: right;\n",
              "    }\n",
              "</style>\n",
              "<table border=\"1\" class=\"dataframe\">\n",
              "  <thead>\n",
              "    <tr style=\"text-align: right;\">\n",
              "      <th></th>\n",
              "      <th>names</th>\n",
              "      <th>count</th>\n",
              "    </tr>\n",
              "  </thead>\n",
              "  <tbody>\n",
              "    <tr>\n",
              "      <th>0</th>\n",
              "      <td>normal</td>\n",
              "      <td>133</td>\n",
              "    </tr>\n",
              "    <tr>\n",
              "      <th>1</th>\n",
              "      <td>bengin</td>\n",
              "      <td>447</td>\n",
              "    </tr>\n",
              "    <tr>\n",
              "      <th>2</th>\n",
              "      <td>maliginant</td>\n",
              "      <td>212</td>\n",
              "    </tr>\n",
              "  </tbody>\n",
              "</table>\n",
              "</div>\n",
              "      <button class=\"colab-df-convert\" onclick=\"convertToInteractive('df-f8d7f94b-bfe0-4f6a-a036-bd29fd4dfdce')\"\n",
              "              title=\"Convert this dataframe to an interactive table.\"\n",
              "              style=\"display:none;\">\n",
              "        \n",
              "  <svg xmlns=\"http://www.w3.org/2000/svg\" height=\"24px\"viewBox=\"0 0 24 24\"\n",
              "       width=\"24px\">\n",
              "    <path d=\"M0 0h24v24H0V0z\" fill=\"none\"/>\n",
              "    <path d=\"M18.56 5.44l.94 2.06.94-2.06 2.06-.94-2.06-.94-.94-2.06-.94 2.06-2.06.94zm-11 1L8.5 8.5l.94-2.06 2.06-.94-2.06-.94L8.5 2.5l-.94 2.06-2.06.94zm10 10l.94 2.06.94-2.06 2.06-.94-2.06-.94-.94-2.06-.94 2.06-2.06.94z\"/><path d=\"M17.41 7.96l-1.37-1.37c-.4-.4-.92-.59-1.43-.59-.52 0-1.04.2-1.43.59L10.3 9.45l-7.72 7.72c-.78.78-.78 2.05 0 2.83L4 21.41c.39.39.9.59 1.41.59.51 0 1.02-.2 1.41-.59l7.78-7.78 2.81-2.81c.8-.78.8-2.07 0-2.86zM5.41 20L4 18.59l7.72-7.72 1.47 1.35L5.41 20z\"/>\n",
              "  </svg>\n",
              "      </button>\n",
              "      \n",
              "  <style>\n",
              "    .colab-df-container {\n",
              "      display:flex;\n",
              "      flex-wrap:wrap;\n",
              "      gap: 12px;\n",
              "    }\n",
              "\n",
              "    .colab-df-convert {\n",
              "      background-color: #E8F0FE;\n",
              "      border: none;\n",
              "      border-radius: 50%;\n",
              "      cursor: pointer;\n",
              "      display: none;\n",
              "      fill: #1967D2;\n",
              "      height: 32px;\n",
              "      padding: 0 0 0 0;\n",
              "      width: 32px;\n",
              "    }\n",
              "\n",
              "    .colab-df-convert:hover {\n",
              "      background-color: #E2EBFA;\n",
              "      box-shadow: 0px 1px 2px rgba(60, 64, 67, 0.3), 0px 1px 3px 1px rgba(60, 64, 67, 0.15);\n",
              "      fill: #174EA6;\n",
              "    }\n",
              "\n",
              "    [theme=dark] .colab-df-convert {\n",
              "      background-color: #3B4455;\n",
              "      fill: #D2E3FC;\n",
              "    }\n",
              "\n",
              "    [theme=dark] .colab-df-convert:hover {\n",
              "      background-color: #434B5C;\n",
              "      box-shadow: 0px 1px 3px 1px rgba(0, 0, 0, 0.15);\n",
              "      filter: drop-shadow(0px 1px 2px rgba(0, 0, 0, 0.3));\n",
              "      fill: #FFFFFF;\n",
              "    }\n",
              "  </style>\n",
              "\n",
              "      <script>\n",
              "        const buttonEl =\n",
              "          document.querySelector('#df-f8d7f94b-bfe0-4f6a-a036-bd29fd4dfdce button.colab-df-convert');\n",
              "        buttonEl.style.display =\n",
              "          google.colab.kernel.accessAllowed ? 'block' : 'none';\n",
              "\n",
              "        async function convertToInteractive(key) {\n",
              "          const element = document.querySelector('#df-f8d7f94b-bfe0-4f6a-a036-bd29fd4dfdce');\n",
              "          const dataTable =\n",
              "            await google.colab.kernel.invokeFunction('convertToInteractive',\n",
              "                                                     [key], {});\n",
              "          if (!dataTable) return;\n",
              "\n",
              "          const docLinkHtml = 'Like what you see? Visit the ' +\n",
              "            '<a target=\"_blank\" href=https://colab.research.google.com/notebooks/data_table.ipynb>data table notebook</a>'\n",
              "            + ' to learn more about interactive tables.';\n",
              "          element.innerHTML = '';\n",
              "          dataTable['output_type'] = 'display_data';\n",
              "          await google.colab.output.renderOutput(dataTable, element);\n",
              "          const docLink = document.createElement('div');\n",
              "          docLink.innerHTML = docLinkHtml;\n",
              "          element.appendChild(docLink);\n",
              "        }\n",
              "      </script>\n",
              "    </div>\n",
              "  </div>\n",
              "  "
            ]
          },
          "metadata": {},
          "execution_count": 23
        }
      ]
    },
    {
      "cell_type": "code",
      "source": [
        "encoder = LabelEncoder()\n",
        "\n",
        "images['target'] = encoder.fit_transform(images['target'])\n"
      ],
      "metadata": {
        "id": "ddMPtTZG1WsH"
      },
      "execution_count": 25,
      "outputs": []
    },
    {
      "cell_type": "code",
      "source": [
        "cancer_classes = encoder.classes_\n",
        "\n",
        "cancer_classes"
      ],
      "metadata": {
        "colab": {
          "base_uri": "https://localhost:8080/"
        },
        "id": "fZlsyY4x51WA",
        "outputId": "b288a17c-42bc-429b-bae0-217e45302789"
      },
      "execution_count": 26,
      "outputs": [
        {
          "output_type": "execute_result",
          "data": {
            "text/plain": [
              "array(['benign', 'malignant', 'normal'], dtype='<U9')"
            ]
          },
          "metadata": {},
          "execution_count": 26
        }
      ]
    },
    {
      "cell_type": "code",
      "source": [
        "from sklearn.model_selection import train_test_split\n",
        "\n",
        "X_train , X_test , y_train , y_test = train_test_split(images['image'] , images['target'] , test_size = 0.2 , random_state=5)\n",
        "\n",
        "X_train.shape , X_test.shape , y_train.shape , y_test.shape"
      ],
      "metadata": {
        "colab": {
          "base_uri": "https://localhost:8080/"
        },
        "id": "o8OQu6mg_gea",
        "outputId": "1a0093bf-24d0-4f34-82e2-854f3d6bec86"
      },
      "execution_count": 28,
      "outputs": [
        {
          "output_type": "execute_result",
          "data": {
            "text/plain": [
              "((633, 224, 224, 3), (159, 224, 224, 3), (633,), (159,))"
            ]
          },
          "metadata": {},
          "execution_count": 28
        }
      ]
    },
    {
      "cell_type": "code",
      "source": [
        ""
      ],
      "metadata": {
        "id": "8jJRb9TNAG0e"
      },
      "execution_count": null,
      "outputs": []
    }
  ],
  "metadata": {
    "colab": {
      "name": "BREAST_CANCER_IMAGE_CLASSIFICATION .ipynb",
      "provenance": [],
      "collapsed_sections": [],
      "mount_file_id": "1pgPbdTRoAH75FK9bMsIFc1xkwBx93cZ1",
      "authorship_tag": "ABX9TyOh0SA+kjElc6KBzRzwYuiL",
      "include_colab_link": true
    },
    "kernelspec": {
      "display_name": "Python 3",
      "name": "python3"
    },
    "language_info": {
      "name": "python"
    }
  },
  "nbformat": 4,
  "nbformat_minor": 0
}